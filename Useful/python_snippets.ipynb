{
  "nbformat": 4,
  "nbformat_minor": 0,
  "metadata": {
    "colab": {
      "name": "python_snippets.ipynb",
      "provenance": [],
      "collapsed_sections": [],
      "authorship_tag": "ABX9TyM67g7Xu2SwIkx5XIb53h4+",
      "include_colab_link": true
    },
    "kernelspec": {
      "name": "python3",
      "display_name": "Python 3"
    },
    "language_info": {
      "name": "python"
    }
  },
  "cells": [
    {
      "cell_type": "markdown",
      "metadata": {
        "id": "view-in-github",
        "colab_type": "text"
      },
      "source": [
        "<a href=\"https://colab.research.google.com/github/crerarc/Widgets/blob/main/python_snippets.ipynb\" target=\"_parent\"><img src=\"https://colab.research.google.com/assets/colab-badge.svg\" alt=\"Open In Colab\"/></a>"
      ]
    },
    {
      "cell_type": "code",
      "metadata": {
        "colab": {
          "base_uri": "https://localhost:8080/"
        },
        "id": "YxDiuhfw4UYp",
        "outputId": "8a62af20-c445-435d-ddfa-5756b7350b77"
      },
      "source": [
        "# Intention: Assorted bits of code to do assorted things!\n",
        "\n",
        "# License\n",
        "#\n",
        "#  python_snippets.py\n",
        "#  \n",
        "#  Copyright 2022 Crerar Christie <crerarc03@gmail.com>\n",
        "#  \n",
        "# This program is free software: you can redistribute it and/or modify it under\n",
        "# the terms of the GNU General Public License as published by the Free Software\n",
        "# Foundation, either version 3 of the License, or (at your option) any later version.\n",
        "# \n",
        "# This program is distributed in the hope that it will be useful, but WITHOUT\n",
        "# ANY WARRANTY; without even the implied warranty of MERCHANTABILITY or FITNESS\n",
        "# FOR A PARTICULAR PURPOSE. See the GNU General Public License for more details.\n",
        "# \n",
        "# You should have received a copy of the GNU General Public License along with\n",
        "# this program. If not, see <https://www.gnu.org/licenses/>\n",
        "\n",
        "# Represent a decimal as an interger ratio\n",
        "\n",
        "x = 0.125\n",
        "print(f\"Return {x} as a fraction: {x.as_integer_ratio()} \")\n",
        "\n",
        "\n"
      ],
      "execution_count": 2,
      "outputs": [
        {
          "output_type": "stream",
          "name": "stdout",
          "text": [
            "Return 0.125 as a fraction: (1, 8) \n"
          ]
        }
      ]
    }
  ]
}
