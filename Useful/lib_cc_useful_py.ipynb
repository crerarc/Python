{
  "nbformat": 4,
  "nbformat_minor": 0,
  "metadata": {
    "colab": {
      "name": "lib_cc_useful.py",
      "provenance": [],
      "authorship_tag": "ABX9TyPu4VHxz5j6dPOEsfxZAYwc",
      "include_colab_link": true
    },
    "kernelspec": {
      "name": "python3",
      "display_name": "Python 3"
    }
  },
  "cells": [
    {
      "cell_type": "markdown",
      "metadata": {
        "id": "view-in-github",
        "colab_type": "text"
      },
      "source": [
        "<a href=\"https://colab.research.google.com/github/crerarc/Python/blob/main/lib_cc_useful_py.ipynb\" target=\"_parent\"><img src=\"https://colab.research.google.com/assets/colab-badge.svg\" alt=\"Open In Colab\"/></a>"
      ]
    },
    {
      "cell_type": "code",
      "metadata": {
        "id": "vjUmitqcDxQN"
      },
      "source": [
        "#@title Date As Number (dan): based upon MS calculation\n",
        "def dan(dd,mon,yyyy):\n",
        "    \"\"\"[Mimicks MS Excel year as number calculation.\n",
        "        From 00:00:00 on 01/01/1900 to 23:59:59 on day selected]\n",
        "    Arguments:\n",
        "        dd {[int]} -- [Day to calculate to, e.g, 01]\n",
        "        mon {[string]} -- [Month to calculate to, e.g., Jan]\n",
        "        yyyy {[int]} -- [Year to calculate to, e.g. 2013]\n",
        "    Returns:\n",
        "        [int] -- [time in days]\n",
        "    \"\"\"\n",
        "\n",
        "    # Instantiation\n",
        "    baseYr = 1900\n",
        "    month = [\"jan\",\"feb\",\"mar\",\"apr\",\"may\",\"jun\",\"jul\",\"aug\",\"sep\",\"oct\",\"nov\",\"dec\"]\n",
        "    daysInMnth = [31,28,31,30,31,30,31,31,30,31,30,31]\n",
        "    mon = mon.lower()\n",
        "\n",
        "    #Calculate days in years\n",
        "    nyears = yyyy - baseYr\n",
        "\n",
        "    # Calculate additional days from leap years\n",
        "    # where year is divisible by 4, except if also divisible by 100, excluding 400\n",
        "    nleap = 0\n",
        "    for yr in range(1900,yyyy,4):\n",
        "        if (yr%4 == 0 and not(yr%100 == 0)) or (yr%400 == 0):\n",
        "            nleap += 1\n",
        "    ndaysInYrs = (nyears*365) + nleap\n",
        "\n",
        "    # Calculate days in months\n",
        "    idx = month.index(mon)\n",
        "    ndaysInMnths = sum(daysInMnth[:idx])\n",
        "\n",
        "    # Add an extra day if it's a leap year and passed Feb\n",
        "    if yyyy%4 == 0 and idx > 1:\n",
        "        ndaysInMnths += 1\n",
        "\n",
        "    return ndaysInYrs+ndaysInMnths+dd"
      ],
      "execution_count": null,
      "outputs": []
    }
  ]
}
