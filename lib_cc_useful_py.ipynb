{
  "nbformat": 4,
  "nbformat_minor": 0,
  "metadata": {
    "colab": {
      "name": "lib_cc_useful.py",
      "provenance": [],
      "collapsed_sections": [],
      "authorship_tag": "ABX9TyM+Fms7Chd0u1yVAVSR4Dwx",
      "include_colab_link": true
    },
    "kernelspec": {
      "name": "python3",
      "display_name": "Python 3"
    }
  },
  "cells": [
    {
      "cell_type": "markdown",
      "metadata": {
        "id": "view-in-github",
        "colab_type": "text"
      },
      "source": [
        "<a href=\"https://colab.research.google.com/github/crerarc/Python/blob/main/lib_cc_useful_py.ipynb\" target=\"_parent\"><img src=\"https://colab.research.google.com/assets/colab-badge.svg\" alt=\"Open In Colab\"/></a>"
      ]
    },
    {
      "cell_type": "code",
      "metadata": {
        "id": "vjUmitqcDxQN"
      },
      "source": [
        "#@title Run Block\n",
        "\n",
        "# Intention: Assorted bits of code to do assorted things!\n",
        "\n",
        "# License\n",
        "#\n",
        "#  lib_cc_useful.py\n",
        "#  \n",
        "#  Copyright 2022 Crerar Christie <crerarc03@gmail.com>\n",
        "#  \n",
        "# This program is free software: you can redistribute it and/or modify it under\n",
        "# the terms of the GNU General Public License as published by the Free Software\n",
        "# Foundation, either version 3 of the License, or (at your option) any later version.\n",
        "# \n",
        "# This program is distributed in the hope that it will be useful, but WITHOUT\n",
        "# ANY WARRANTY; without even the implied warranty of MERCHANTABILITY or FITNESS\n",
        "# FOR A PARTICULAR PURPOSE. See the GNU General Public License for more details.\n",
        "# \n",
        "# You should have received a copy of the GNU General Public License along with\n",
        "# this program. If not, see <https://www.gnu.org/licenses/>\n",
        "\n",
        "# Storge for useful functions/ methods\n",
        "\n",
        "import time\n",
        "\n",
        "def main() -> None:\n",
        "    #print(mktrans())\n",
        "    #print(asciiswp())\n",
        "    #print(byteswp())\n",
        "    dec2frac(75/1000)\n",
        "\n",
        "    return 0\n"
      ],
      "execution_count": null,
      "outputs": []
    },
    {
      "cell_type": "code",
      "source": [
        "#@title Time function for timed decorator\n",
        "def timefun(f):\n",
        "    def timed(*args, **kw):\n",
        "        tic = time.perf_counter()\n",
        "        res = f(*args, **kw)\n",
        "        toc = time.perf_counter()\n",
        "        print(f\"Function {f.__name__} took: {toc - tic:.6f} secs.\")\n",
        "        return res\n",
        "    return timed"
      ],
      "metadata": {
        "cellView": "form",
        "id": "Wo-gvKubR7YE"
      },
      "execution_count": null,
      "outputs": []
    },
    {
      "cell_type": "code",
      "source": [
        "#@title Decimal expressed as a fraction\n",
        "def dec2frac(frac):\n",
        "    x, y = frac.as_integer_ratio()\n",
        "    print(f\"Decimal {frac} as a ratio: {x} / {y}\")\n",
        "    return 0"
      ],
      "metadata": {
        "id": "AErXHQ4mRup8"
      },
      "execution_count": null,
      "outputs": []
    },
    {
      "cell_type": "code",
      "source": [
        "#@title Date As Number (dan): based upon MS calculation\n",
        "def dan(dd,mon,yyyy):\n",
        "    \"\"\"[Mimicks MS Excel year as number calculation.\n",
        "        From 00:00:00 on 01/01/1900 to 23:59:59 on day selected]\n",
        "    Arguments:\n",
        "        dd {[int]} -- [Day to calculate to, e.g, 01]\n",
        "        mon {[string]} -- [Month to calculate to, e.g., Jan]\n",
        "        yyyy {[int]} -- [Year to calculate to, e.g. 2013]\n",
        "    Returns:\n",
        "        [int] -- [time in days]\n",
        "    \"\"\"\n",
        "\n",
        "    # Instantiation\n",
        "    baseYr = 1900\n",
        "    month = [\"jan\",\"feb\",\"mar\",\"apr\",\"may\",\"jun\",\"jul\",\"aug\",\"sep\",\"oct\",\"nov\",\"dec\"]\n",
        "    daysInMnth = [31,28,31,30,31,30,31,31,30,31,30,31]\n",
        "    mon = mon.lower()\n",
        "\n",
        "    #Calculate days in years\n",
        "    nyears = yyyy - baseYr\n",
        "\n",
        "    # Calculate additional days from leap years\n",
        "    # where year is divisible by 4, except if also divisible by 100, excluding 400\n",
        "    nleap = 0\n",
        "    for yr in range(1900,yyyy,4):\n",
        "        if (yr%4 == 0 and not(yr%100 == 0)) or (yr%400 == 0):\n",
        "            nleap += 1\n",
        "    ndaysInYrs = (nyears*365) + nleap\n",
        "\n",
        "    # Calculate days in months\n",
        "    idx = month.index(mon)\n",
        "    ndaysInMnths = sum(daysInMnth[:idx])\n",
        "\n",
        "    # Add an extra day if it's a leap year and passed Feb\n",
        "    if yyyy%4 == 0 and idx > 1:\n",
        "        ndaysInMnths += 1\n",
        "\n",
        "    return ndaysInYrs+ndaysInMnths+dd"
      ],
      "metadata": {
        "cellView": "form",
        "id": "2bS9Nk7ERc_m"
      },
      "execution_count": null,
      "outputs": []
    },
    {
      "cell_type": "code",
      "execution_count": null,
      "metadata": {
        "id": "pmFzyOKcoGql",
        "cellView": "form"
      },
      "outputs": [],
      "source": [
        "#@title Comparison of Caesar cipher implementations\n",
        "decode_me = \"g fmnc wms bgblr rpylqjyrc gr zw fylb. rfyrq ufyr amknsrcpq ypc dmp. bmgle gr gl zw fylb gq glcddgagclr ylb rfyr'q ufw rfgq rcvr gq qm jmle. sqgle qrpgle.kyicrpylq() gq pcamkkclbcb. lmu ynnjw ml rfc spj.\"\n",
        "\n",
        "@timefun\n",
        "def mktrans():\n",
        "    txt_tble  = decode_me.maketrans(\"abcdefghijklmnopqrstuvwxyz\",\n",
        "                            \"cdefghijklmnopqrstuvwxyzab\")\n",
        "    decoded = decode_me.translate(txt_tble)\n",
        "    return(decoded)\n",
        "\n",
        "@timefun\n",
        "def asciiswp():\n",
        "    decoded = ''\n",
        "    for let in decode_me:\n",
        "        ichr = ord(let)\n",
        "        if ichr >= 97 and ichr <= 122:\n",
        "            ichr += 2\n",
        "            if ichr >= 122:\n",
        "                ichr -= 26\n",
        "        decoded += chr(ichr)\n",
        "    return decoded\n",
        "\n",
        "@timefun\n",
        "def byteswp():\n",
        "    byt_cod = bytearray(decode_me, 'utf-8')\n",
        "    for i in range(len(byt_cod)):\n",
        "        if byt_cod[i] >= 0x61 and byt_cod[i] <= 0x7b:\n",
        "            if byt_cod[i] > 0x78: byt_cod[i] -= 0x1a\n",
        "            byt_cod[i] += 2\n",
        "    decoded = byt_cod.decode()\n",
        "    return decoded\n",
        "\n"
      ]
    },
    {
      "cell_type": "code",
      "source": [
        "#@title Execution Starting Point\n",
        "if __name__ == \"__main__\":\n",
        "    main()"
      ],
      "metadata": {
        "colab": {
          "base_uri": "https://localhost:8080/"
        },
        "cellView": "form",
        "id": "bNIBZ-lhQty9",
        "outputId": "6184e6ea-8f12-49df-b4a2-119907e74c9a"
      },
      "execution_count": null,
      "outputs": [
        {
          "output_type": "stream",
          "name": "stdout",
          "text": [
            "Decimal 0.075 as a ratio: 5404319552844595 / 72057594037927936\n"
          ]
        }
      ]
    }
  ]
}