{
  "nbformat": 4,
  "nbformat_minor": 0,
  "metadata": {
    "colab": {
      "name": "playbook_python_intermed.ipynb",
      "provenance": [],
      "collapsed_sections": [
        "bTp2tSMI-Bw8",
        "dxX7_azlG7pS"
      ],
      "toc_visible": true,
      "authorship_tag": "ABX9TyO1VH1X/ObDxiq2mtmfW5WR",
      "include_colab_link": true
    },
    "kernelspec": {
      "name": "python3",
      "display_name": "Python 3"
    },
    "language_info": {
      "name": "python"
    }
  },
  "cells": [
    {
      "cell_type": "markdown",
      "metadata": {
        "id": "view-in-github",
        "colab_type": "text"
      },
      "source": [
        "<a href=\"https://colab.research.google.com/github/crerarc/Python/blob/main/playbook_python_intermed.ipynb\" target=\"_parent\"><img src=\"https://colab.research.google.com/assets/colab-badge.svg\" alt=\"Open In Colab\"/></a>"
      ]
    },
    {
      "cell_type": "markdown",
      "metadata": {
        "id": "o0hkn6o79ZOX"
      },
      "source": [
        "# Python Playbook - Intermediate"
      ]
    },
    {
      "cell_type": "markdown",
      "source": [
        "# License\n",
        "\n",
        " python_playbook_intermed.py\n",
        " \n",
        " Copyright 2022 Crerar Christie <crerarc03@gmail.com>\n",
        " \n",
        "This program is free software: you can redistribute it and/or modify it under the terms of the GNU General Public License as published by the Free Software Foundation, either version 3 of the License, or (at your option) any later version.\n",
        "\n",
        "This program is distributed in the hope that it will be useful, but WITHOUT ANY WARRANTY; without even the implied warranty of MERCHANTABILITY or FITNESS FOR A PARTICULAR PURPOSE. See the GNU General Public License for more details.\n",
        "\n",
        "You should have received a copy of the GNU General Public License along with this program. If not, see <https://www.gnu.org/licenses/>\n"
      ],
      "metadata": {
        "id": "D1o0ljQXejAy"
      }
    },
    {
      "cell_type": "code",
      "source": [
        "#@title Introspection\n",
        "# Built in tools to help you learn about the languange\n",
        "# type()\n",
        "# dir()\n",
        "# help()\n",
        "# ----------\n",
        "# callable()\n",
        "# len()\n",
        "# locals()\n",
        "# globals()\n",
        "# Other stuff...\n",
        "\n",
        "# type\n",
        "# Return values not what was expected can be common\n",
        "def multiplier(x: int, y: int) -> str:\n",
        "    return str(x * y)\n",
        "rv = multiplier(4, 5)\n",
        "print(f\"return value = {rv}\")\n",
        "print(f\"Type: {type(rv)}\")\n",
        "\n",
        "# dir()\n",
        "# Returns a list of all functions and attributes available in Module\n",
        "import code # 'code' used to create read-evaluatet-print-loop (REPL)\n",
        "dir(code)\n",
        "\n",
        "# help()\n",
        "# Reads the docstrings in the module\n",
        "# help(code)\n",
        "\n",
        "def testfun(x: int, y:int) -> float:\n",
        "    \"\"\"Just a test to see what help does with a function docstring\"\"\"\n",
        "    return x / y\n",
        "print(testfun(8, 5))\n",
        "help(testfun)\n",
        "\n",
        "# callable()\n",
        "# Used to test if an object - e.g. a function or a class, is callable\n",
        "a = 5\n",
        "print(f\"\\nIs variable a callable: {callable(a)}\") # If false, likely a variable\n",
        "def adder(x: int, y: int) -> None:\n",
        "    pass\n",
        "print(f\"Is function adder callable: {callable(adder)}\")\n",
        "\n",
        "# len()\n",
        "# Returns length of object (doesn't work with single value objects, e.g., int)\n",
        "ltest = [5, 6, 7, 3, 2, 9]\n",
        "print(f\"Length of ltest: {len(ltest)}\")\n",
        "\n",
        "# locals\n",
        "# Returns a dictionary of current local symbol table, use in REPL or code\n",
        "def adder(x, y):\n",
        "    print(f\"\\nLocals in adder: {locals()}\")\n",
        "adder(4, 5)\n",
        "\n",
        "# globals\n",
        "# Similar to locals , except globals returns module-level namespace: you get\n",
        "# module level attributes, but not the arguments to the function nor their values\n",
        "def adder(x, y):\n",
        "    print(f\"\\nGlobals in adder: {globals()}\")\n",
        "adder(4, 5)\n"
      ],
      "metadata": {
        "cellView": "form",
        "id": "t3-G17w_sWxv"
      },
      "execution_count": null,
      "outputs": []
    },
    {
      "cell_type": "code",
      "source": [
        "#@title Installing packages with PIP\n",
        "# Packages can be found at: https://pypi.org/\n",
        "# Installing a package\n",
        "# Exploring Command line options\n",
        "# Installing with requirements.txt\n",
        "# Upgrading a package\n",
        "# Checking what's installed\n",
        "# Uninstalling packages\n",
        "# PIP alternatives\n",
        "\n",
        "# Installing (need to install pip first, either via packagemanager or \n",
        "# https://pip.pypa.io/en/stable/installation/)\n",
        "\n",
        "# python3 -m pip # Check if you have module\n",
        "\n",
        "# pip install package_name\n",
        "# Beware, don't know which Python version this pip is attached to, e.g.\n",
        "# could have Python 3.6 and Python 3.8, and pip install for 3.6\n",
        "# Can force with...\n",
        "# python3.8 -m pip install package_name\n",
        "\n",
        "# Multiple packages\n",
        "python -m pip install package_1 package_2 package_3\n"
      ],
      "metadata": {
        "cellView": "form",
        "id": "qcHWCEwC6Ovi"
      },
      "execution_count": null,
      "outputs": []
    },
    {
      "cell_type": "code",
      "source": [
        "#@title Command line options\n",
        "\n",
        "\"\"\"Commands\n",
        "install     Install packages\n",
        "download    Download packages\n",
        "uninstall   Uninstall packages\n",
        "freeze      Output installed packages in requirements format\n",
        "list        List installed packages\n",
        "show        Show info about installed packages\n",
        "check       Verify installed packages have compatible dependencies\n",
        "config      Manage global and local config\n",
        "search      Search PyPI for packages\n",
        "wheel       Build wheels from you requirements\n",
        "hash        Compute hashes of package archives.\n",
        "completion  A helper command used for command completion\n",
        "debug       Show information for debugging\n",
        "help        Show help for the commands\n",
        "\"\"\"\n",
        "\n",
        "\"\"\"General options\n",
        "-h, --help  Show help\n",
        "--isolated  Run pip in isolated mode\n",
        "-v, --verbose Give more output\n",
        "-V, --version Show version and exit\n",
        "-q, --quiet Give less output\n",
        "--log <PATH> Path to a verbose appending log\n",
        "... and many more!\n",
        "\"\"\"\n",
        "\n",
        "# python -m pip install -h # Will show install options and package index options\n",
        "# python -m pip install - r requirements.txt # dependencies are specified in requirements.txt\n",
        "# python -m piop install --upgrade package_name # Upgrade package\n",
        "# python3.8 -m pip list # Check what's installed\n",
        "\n",
        "# If you installed packages using apt or brew, via an installer, they will\n",
        "# not show up under pip list\n",
        "\n",
        "# Uninstall\n",
        "# pip uninstall [options] <package> #Can uninstall multiple packages at same time\n",
        "# pip uninstall [options] -r <requirements file>\n",
        "\n",
        "# pip alternatives\n",
        "# Conda     https://docs.conda.io/en/latest/\n",
        "# Pipenv    https://github.com/pypa/pipenv\n",
        "# pipx      https://github.com/pypa/pipx\n",
        "# Poetry    https://python-poetry.org/\n"
      ],
      "metadata": {
        "cellView": "form",
        "id": "UtjqRrQB8piZ",
        "colab": {
          "base_uri": "https://localhost:8080/",
          "height": 54
        },
        "outputId": "8e4e8cea-1543-49a6-9147-d6497b11116a"
      },
      "execution_count": null,
      "outputs": [
        {
          "output_type": "execute_result",
          "data": {
            "application/vnd.google.colaboratory.intrinsic+json": {
              "type": "string"
            },
            "text/plain": [
              "'General options\\n-h, --help  Show help\\n--isolated  Run pip in isolated mode\\n-v, --verbose Give more output\\n-V, --version Show version and exit\\n-q, --quiet Give less output\\n--log <PATH> Path to a verbose appending log\\n... and many more!\\n'"
            ]
          },
          "metadata": {},
          "execution_count": 1
        }
      ]
    },
    {
      "cell_type": "code",
      "source": [
        "#@title Python Virtual Environments\n",
        "\n"
      ],
      "metadata": {
        "id": "4rMExdF9Kg74"
      },
      "execution_count": null,
      "outputs": []
    },
    {
      "cell_type": "code",
      "metadata": {
        "id": "EKvKbAt4eslH",
        "cellView": "form"
      },
      "source": [
        "#@title Decorators\n",
        "# Software design patterns that alter the functionality of of function,\n",
        "# method, or class w/o having to directly use subclasses or change source of\n",
        "# decorated fn.\n",
        "\n",
        "def secret_fn(f):\n",
        "    return f\n",
        "\n",
        "@secret_fn\n",
        "def myfunc():\n",
        "    print(\"This is my secret fn.\")\n",
        "\n",
        "# @ - syntactic sugar for: myfunc = secret_fn(myfunc)\n",
        "# Usually define a new fn inside the decorator & return it.\n",
        "# The new fn would first do what it needs to do, then call the original fn,\n",
        "# and finally process the return value.\n",
        "\n",
        "# Decorator\n",
        "def print_args(func):\n",
        "    def inner_func(*args, **kwargs):\n",
        "        print(args)\n",
        "        print(kwargs)\n",
        "        return func(*args, **kwargs) # Call the original fn w. its args\n",
        "    return inner_func\n",
        "\n",
        "@print_args\n",
        "def multiply(num_a, num_b):\n",
        "    return num_a * num_b\n",
        "\n",
        "print(f\"{multiply(3, 5)}\\n\") # (3, 5) - args, {} - kwargs, 15 the result\n",
        "\n",
        "import time\n",
        "# Decorator timing fn\n",
        "def timer(methd):\n",
        "    def timed(*args, **kwargs):\n",
        "        t1 = time.time()\n",
        "        result = methd(*args, **kwargs)\n",
        "        t2 = time.time()\n",
        "        print(f\"{methd.__name__} took: {(t2 - t1) * 1000:10.5} ms\")\n",
        "        return result\n",
        "    return timed\n",
        "\n",
        "def fact_recn(n):\n",
        "    if n <= 1:\n",
        "        return 1\n",
        "    else:\n",
        "        return n * fact_recn(n - 1)\n",
        "\n",
        "@timer\n",
        "def fact_itr(n):\n",
        "    lis = range(1,n+1)\n",
        "    fact = 1\n",
        "    for num in lis:\n",
        "        fact *= num\n",
        "    return(fact)\n",
        "\n",
        "\n",
        "@timer\n",
        "def fact_rec(n):\n",
        "    return fact_recn(n)\n",
        "\n",
        "num = 69\n",
        "print(f\"Factorial\\nRecursive: {fact_rec(num)}\\nIterative: {fact_itr(num)}\")\n"
      ],
      "execution_count": null,
      "outputs": []
    },
    {
      "cell_type": "code",
      "metadata": {
        "id": "Z0ZDO_mHGwGx",
        "cellView": "form"
      },
      "source": [
        "#@title Zip and unzip\n",
        "\n",
        "# Zipped\n",
        "x = [1, 2, 3, 4]\n",
        "y = [5, 6, 7, 8]\n",
        "zipped = list(zip(x, y)) # Zips into pairs of tuples\n",
        "print(zipped)\n",
        "\n",
        "# Unzipped\n",
        "x_new, y_new = zip(*zipped)\n",
        "print(x_new, \"\\n\", y_new)\n",
        "\n",
        "z = [(1, 2), (3, 4)]\n",
        "print(*x, \"\\n\", *z)"
      ],
      "execution_count": null,
      "outputs": []
    },
    {
      "cell_type": "markdown",
      "metadata": {
        "id": "bTp2tSMI-Bw8"
      },
      "source": [
        "## Libraries"
      ]
    },
    {
      "cell_type": "code",
      "metadata": {
        "id": "-CAAy_kGEh0j",
        "cellView": "form",
        "colab": {
          "base_uri": "https://localhost:8080/"
        },
        "outputId": "d4ecdb26-7b57-4750-f4c9-9b09442ddd7f"
      },
      "source": [
        "#@title Library: JSON\n",
        "import json\n",
        "\n",
        "# Json to parse to python\n",
        "x = '{\"name\":\"John\", \"age\":36, \"City\":\"Somewhere\"}'\n",
        "\n",
        "# parse it\n",
        "y = json.loads(x)\n",
        "\n",
        "# Print results in a python dictionary\n",
        "print(y[\"age\"])\n",
        "\n",
        "# Python to parse to json\n",
        "# Python dictionary\n",
        "x = {\n",
        "    \"name\":\"Fred\",\n",
        "    \"age\":30,\n",
        "    \"City\":\"SomewhereElse\"\n",
        "}\n",
        "\n",
        "# Convert to json\n",
        "y = json.dumps(x)\n",
        "\n",
        "# Show output\n",
        "print(y)"
      ],
      "execution_count": null,
      "outputs": [
        {
          "output_type": "stream",
          "name": "stdout",
          "text": [
            "36\n",
            "{\"name\": \"Fred\", \"age\": 30, \"City\": \"SomewhereElse\"}\n"
          ]
        }
      ]
    },
    {
      "cell_type": "code",
      "metadata": {
        "id": "RhZyGzo9b-rp",
        "cellView": "form",
        "colab": {
          "base_uri": "https://localhost:8080/"
        },
        "outputId": "fc381c71-e1e7-460f-ab69-b28da19d3f9d"
      },
      "source": [
        "#@title Library: Sympy\n",
        "import sympy as sym # library to simplify maths for machine learning\n",
        "\n",
        "x, y = sym.symbols('x y')\n",
        "gfg_exp = x**2 + 3*x\n",
        "\n",
        "print(sym.diff(gfg_exp))\n",
        "print(sym.solve(gfg_exp))\n",
        "print(sym.diff(sym.sin(x), x))\n",
        "print(sym.limit(1 / x, x, 0))\n"
      ],
      "execution_count": null,
      "outputs": [
        {
          "output_type": "stream",
          "name": "stdout",
          "text": [
            "2*x + 3\n",
            "[-3, 0]\n",
            "cos(x)\n",
            "oo\n"
          ]
        }
      ]
    },
    {
      "cell_type": "code",
      "metadata": {
        "id": "nBx1UVZTfw__",
        "cellView": "form"
      },
      "source": [
        "#@title Library: Random\n",
        "import random as rnd\n"
      ],
      "execution_count": null,
      "outputs": []
    },
    {
      "cell_type": "code",
      "metadata": {
        "id": "14PrOoRYQNr4",
        "cellView": "form",
        "colab": {
          "base_uri": "https://localhost:8080/"
        },
        "outputId": "1c122611-c34a-4dee-87fe-45056e240dd8"
      },
      "source": [
        "#@title Library: Numpy\n",
        "import numpy as np\n",
        "\n",
        "a = np.linspace(-np.pi, np.pi, 100)\n",
        "b = np.cos(a)\n",
        "c = np.sin(a)\n",
        "print(f\"Inner product (@): {b@c}\")\n",
        "\n",
        "x = list(range(5))\n",
        "y = list(range(4, -1, -1))\n",
        "xa = np.array(x)\n",
        "ya = np.array(y)\n",
        "za = xa * ya\n",
        "print(xa,\"\\n\",ya,\"\\n\",za)"
      ],
      "execution_count": null,
      "outputs": [
        {
          "output_type": "stream",
          "name": "stdout",
          "text": [
            "Inner product (@): 4.04891256782214e-16\n",
            "[0 1 2 3 4] \n",
            " [4 3 2 1 0] \n",
            " [0 3 4 3 0]\n"
          ]
        }
      ]
    },
    {
      "cell_type": "code",
      "metadata": {
        "cellView": "form",
        "id": "AsjWLSlQpeuD",
        "colab": {
          "base_uri": "https://localhost:8080/"
        },
        "outputId": "3101ca0f-b2a1-4d5d-bcaf-784329bf4fff"
      },
      "source": [
        "#@title Library: Scipy\n",
        "from scipy.stats import norm\n",
        "from scipy.integrate import quad\n",
        "theta = norm()\n",
        "value, error = quad(theta.pdf, -2, 2)\n",
        "print(f\"Integral of norm distrib btwn -2 and 2: {value}\")\n"
      ],
      "execution_count": null,
      "outputs": [
        {
          "output_type": "stream",
          "name": "stdout",
          "text": [
            "Integral of norm distrib btwn -2 and 2: 0.9544997361036417\n"
          ]
        }
      ]
    },
    {
      "cell_type": "code",
      "metadata": {
        "id": "InqpdFdzSl4s",
        "cellView": "form"
      },
      "source": [
        "#@title Library: Pandas\n",
        "import pandas as pd\n",
        "import datetime as dt\n",
        "import os\n",
        "from google.colab import drive\n",
        "if not(os.path.ismount('/content/gdrive')):\n",
        "        drive.mount('/content/gdrive')\n",
        "print(os.listdir())\n",
        "ifile = \"gdrive/My Drive/Colab Notebooks/Data/euroLotData.csv\"\n",
        "my_parser = lambda d_str: dt.datetime.strptime(d_str, \"%d %b %Y\")\n",
        "df = pd.read_csv(ifile, parse_dates= [['D', 'M', 'Y']], date_parser = my_parser, index_col=0)\n",
        "games = len(df)\n",
        "draws = games * 5\n",
        "\n",
        "# Check for rows with empty columns\n",
        "is_NAN = df.isnull()\n",
        "row_has_NAN = is_NAN.any(axis = 1)\n",
        "rows_with_NAN = df[row_has_NAN]\n",
        "print(rows_with_NAN)\n",
        "\n",
        "# Print data frame\n",
        "print(df)\n",
        "\n",
        "# Make a vector of all numbers and how many times each appears\n",
        "keys = range(1,51,1)\n",
        "numbr_tots = dict.fromkeys(keys, 0)\n",
        "for colm in df[['1', '2', '3', '4', '5']]:\n",
        "    this_col = dict(df[colm].value_counts())\n",
        "    for kv in this_col:\n",
        "        numbr_tots[kv] += this_col[kv]\n",
        "\n",
        "freqs = {key:val/draws for (key,val) in numbr_tots.items()}\n",
        "\n"
      ],
      "execution_count": null,
      "outputs": []
    },
    {
      "cell_type": "code",
      "metadata": {
        "id": "NL8XFuseBAIx",
        "cellView": "form"
      },
      "source": [
        "#@title Library: Matplotlib\n",
        "%matplotlib inline\n",
        "# Plot size w/o Figure call: plt.rcParams[\"figure.figsize\"] = (12, 6)\n",
        "import matplotlib.pyplot as plt\n",
        "fig = plt.figure()\n",
        "fig.figsize = (6, 3)\n",
        "lists = sorted(freqs.items())\n",
        "x, y = zip(*lists)\n",
        "xp = [1, 50]\n",
        "yp = [0.02, 0.02]\n",
        "plt.plot(x, y, label = \"Actual\", color='blue')\n",
        "plt.plot(xp, yp, label = \"Theory\", color='red')\n",
        "plt.grid()\n",
        "plt.xlabel(\"Ball Number\")\n",
        "plt.ylabel(f\"Freq, Draws / {draws}\")\n",
        "plt.show()"
      ],
      "execution_count": null,
      "outputs": []
    },
    {
      "cell_type": "code",
      "metadata": {
        "id": "2ab_qJNnmlQS",
        "cellView": "form"
      },
      "source": [
        "#@title Library: Regex\n",
        "#Hand ref: https://www.w3schools.com/python/python_regex.asp\n",
        "import re\n",
        "sentence = \"This is a sentence. To test the fun. Of a sentence.\"\n",
        "capital = re.findall(\"[A-Z]\\w+\", sentence)\n",
        "print(capital)\n",
        "print(re.split(\"\\.\", sentence))\n",
        "print(re.sub(\"[.?]\", '!', sentence))\n",
        "x = re.search(\"fun.\", sentence)\n",
        "print(x)\n"
      ],
      "execution_count": null,
      "outputs": []
    },
    {
      "cell_type": "code",
      "metadata": {
        "cellView": "form",
        "id": "Mwaw7ME1269r"
      },
      "source": [
        "#@title Library: Natural Language Processing Toolkit\n",
        "#import nltk\n",
        "#sentence = \"Hello! Good morning.\"\n",
        "#tokens = nltk.word_tokenize(sentence)\n",
        "\n"
      ],
      "execution_count": null,
      "outputs": []
    },
    {
      "cell_type": "code",
      "metadata": {
        "id": "7qLjmpe9Mv0z"
      },
      "source": [
        "#@title Library: Pillow\n",
        "# need numpy, loaded earlier\n",
        "from PIL import Image\n",
        "ifile = \"gdrive/My Drive/Colab Notebooks/Data/landscape-prf.png\"\n",
        "image1 = Image.open(ifile)\n",
        "print(image1.format)\n",
        "print(image1.size)\n",
        "print(image1.mode)\n",
        "# image1.show() # regular command o/w notebook wrapper\n",
        "plt.imshow(np.asarray(image1)) # command inside notebook wrapper"
      ],
      "execution_count": null,
      "outputs": []
    },
    {
      "cell_type": "code",
      "metadata": {
        "id": "eylManSRSs0b"
      },
      "source": [
        "#@title Library: Images with OpenCV\n",
        "import cv2\n",
        "image2 = cv2.imread(ifile, 3) # OpenCV uses BGR not RGB, so need to swap order\n",
        "b, g, r = cv2.split(image2)\n",
        "rgb_img2 = cv2.merge([r, g, b])\n",
        "#rgb_img2 = cv2.bitwise_not(rgb_img2) # Negagive\n",
        "print(rgb_img2.shape)\n",
        "plt.imshow(np.asarray(rgb_img2))"
      ],
      "execution_count": null,
      "outputs": []
    },
    {
      "cell_type": "code",
      "metadata": {
        "id": "FOl4jrcTaajF"
      },
      "source": [
        "#@title Library: Networkx\n",
        "import networkx as nx\n",
        "plt.rcParams['figure.figsize'] = [10, 6]\n",
        "np.random.seed(1234)\n",
        "\n",
        "#Random Graph\n",
        "p = dict((i, (np.random.uniform(0, 1), np.random.uniform(0, 1)))\n",
        "    for i in range(200))\n",
        "g = nx.random_geometric_graph(200, 0.12, pos=p)\n",
        "pos = nx.get_node_attributes(g, 'pos')\n",
        "\n",
        "#Find node nearest the centre point [0.5, 0.5]\n",
        "dists = [(x-0.5)**2 + (y - 0.5)**2 for x, y in list(pos.values())]\n",
        "ncentre = np.argmin(dists)\n",
        "\n",
        "#Plot graph\n",
        "p = nx.single_source_shortest_path_length(g, ncentre)\n",
        "plt.figure()\n",
        "nx.draw_networkx_edges(g, pos, alpha = 0.4)\n",
        "nx.draw_networkx_nodes(g,\n",
        "                       pos,\n",
        "                       nodelist = list(p.keys()),\n",
        "                       node_size = 120, alpha = 0.5,\n",
        "                       node_color = list(p.values()),\n",
        "                       cmap = plt.cm.jet_r)\n",
        "plt.show()\n",
        "    "
      ],
      "execution_count": null,
      "outputs": []
    },
    {
      "cell_type": "code",
      "metadata": {
        "cellView": "form",
        "id": "VeQYEP9oJ9qj"
      },
      "source": [
        "#@title Library: Scikit learn\n",
        "# https://scikit-learn.org/stable/"
      ],
      "execution_count": null,
      "outputs": []
    },
    {
      "cell_type": "markdown",
      "metadata": {
        "id": "dxX7_azlG7pS"
      },
      "source": [
        "## Applicaitons"
      ]
    },
    {
      "cell_type": "code",
      "metadata": {
        "cellView": "form",
        "id": "2TOU4uW2G_FK"
      },
      "source": [
        "#@title Machine Learning\n",
        "# https://www.w3schools.com/python/python_ml_getting_started.asp"
      ],
      "execution_count": null,
      "outputs": []
    },
    {
      "cell_type": "code",
      "metadata": {
        "cellView": "form",
        "id": "tsqFI41vHVAf"
      },
      "source": [
        "#@title MySQL\n",
        "# https://www.w3schools.com/python/python_mysql_getstarted.asp"
      ],
      "execution_count": null,
      "outputs": []
    },
    {
      "cell_type": "markdown",
      "metadata": {
        "id": "aRDaB0DmI7eA"
      },
      "source": [
        "## Practice\n",
        "\n",
        "|Sort|Reference|\n",
        "|----|----|\n",
        "| Leetcode ||\n",
        "| Kaggle ||\n",
        "| Euler ||\n",
        "| Projects| Calculator |\n",
        "|| Matrix multiplication w/o library |\n",
        "|| Abaqus file checker |\n",
        "|| Build a game with pygame |\n",
        "|| Text to speech and OCR |\n",
        "|| Virtual assistant (JARVIS) |\n"
      ]
    }
  ]
}
