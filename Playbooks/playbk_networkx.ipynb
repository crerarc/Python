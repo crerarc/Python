{
  "nbformat": 4,
  "nbformat_minor": 0,
  "metadata": {
    "colab": {
      "name": "playbk_networkx.ipynb",
      "provenance": [],
      "collapsed_sections": [],
      "authorship_tag": "ABX9TyOUdOU/hmctk3Pwsrcj9YwY",
      "include_colab_link": true
    },
    "kernelspec": {
      "name": "python3",
      "display_name": "Python 3"
    },
    "language_info": {
      "name": "python"
    }
  },
  "cells": [
    {
      "cell_type": "markdown",
      "metadata": {
        "id": "view-in-github",
        "colab_type": "text"
      },
      "source": [
        "<a href=\"https://colab.research.google.com/github/crerarc/Python/blob/main/playbk_networkx.ipynb\" target=\"_parent\"><img src=\"https://colab.research.google.com/assets/colab-badge.svg\" alt=\"Open In Colab\"/></a>"
      ]
    },
    {
      "cell_type": "markdown",
      "source": [
        "# License\n",
        "\n",
        "!/usr/bin/env python\n",
        "\n",
        "-*- coding: utf-8 -*-\n",
        "\n",
        "networkx.py\n",
        " \n",
        "Copyright 2022 Crerar Christie <crerarc03@gmail.com>\n",
        " \n",
        "This program is free software: you can redistribute it and/or modify it under\n",
        "the terms of the GNU General Public License as published by the Free Software\n",
        "Foundation, either version 3 of the License, or (at your option) any later version.\n",
        "#\n",
        "This program is distributed in the hope that it will be useful, but WITHOUT\n",
        "ANY WARRANTY; without even the implied warranty of MERCHANTABILITY or FITNESS\n",
        "FOR A PARTICULAR PURPOSE. See the GNU General Public License for more details.\n",
        "You should have received a copy of the GNU General Public License along with\n",
        "this program. If not, see <https://www.gnu.org/licenses/>\n",
        " \n",
        " "
      ],
      "metadata": {
        "id": "8n1zjMzRnxnj"
      }
    },
    {
      "cell_type": "code",
      "execution_count": null,
      "metadata": {
        "colab": {
          "base_uri": "https://localhost:8080/",
          "height": 371
        },
        "id": "P97sjMBIDH71",
        "outputId": "356f1ab5-7f80-413e-908c-686d064cddc8"
      },
      "outputs": [
        {
          "output_type": "stream",
          "name": "stdout",
          "text": [
            "{1: 0.25, 2: 0.5, 3: 0.25, 4: 0.25, 5: 0.25, 6: 0.125, 7: 0.625, 8: 0.125, 9: 0.125}\n",
            "{1: 0.25, 2: 0.46428571428571425, 3: 0.0, 4: 0.0, 5: 0.0, 6: 0.0, 7: 0.7142857142857142, 8: 0.0, 9: 0.0}\n",
            "{1: 0.5, 2: 0.6153846153846154, 3: 0.5333333333333333, 4: 0.47058823529411764, 5: 0.47058823529411764, 6: 0.34782608695652173, 7: 0.7272727272727273, 8: 0.4, 9: 0.4}\n"
          ]
        },
        {
          "output_type": "display_data",
          "data": {
            "text/plain": [
              "<Figure size 432x288 with 1 Axes>"
            ],
            "image/png": "[encoded data removed]"
          },
          "metadata": {}
        }
      ],
      "source": [
        "import networkx as nx\n",
        "import matplotlib.pyplot as plt\n",
        "\n",
        "# Centrality\n",
        "vertices = range(1,10)\n",
        "edges = [(7, 2), (2, 3), (7, 4), (4, 5), (7,3), (7, 5), (1, 6), (1, 7), (2, 8), (2, 9)]\n",
        "G = nx.Graph()\n",
        "G.add_nodes_from(vertices)\n",
        "G.add_edges_from(edges)\n",
        "nx.draw(G, with_labels = True, node_color = 'y', node_size = 800)\n",
        "\n",
        "# Measures\n",
        "print(nx.degree_centrality(G))\n",
        "print(nx.betweenness_centrality(G))\n",
        "print(nx.closeness_centrality(G))"
      ]
    }
  ]
}
