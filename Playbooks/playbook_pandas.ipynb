{
  "nbformat": 4,
  "nbformat_minor": 0,
  "metadata": {
    "colab": {
      "name": "playbook_pandas.ipynb",
      "provenance": [],
      "collapsed_sections": [],
      "authorship_tag": "ABX9TyN+BY8cG+Ky4c4OSNulNbeT",
      "include_colab_link": true
    },
    "kernelspec": {
      "name": "python3",
      "display_name": "Python 3"
    },
    "language_info": {
      "name": "python"
    }
  },
  "cells": [
    {
      "cell_type": "markdown",
      "metadata": {
        "id": "view-in-github",
        "colab_type": "text"
      },
      "source": [
        "<a href=\"https://colab.research.google.com/github/crerarc/Python/blob/main/playbook_pandas.ipynb\" target=\"_parent\"><img src=\"https://colab.research.google.com/assets/colab-badge.svg\" alt=\"Open In Colab\"/></a>"
      ]
    },
    {
      "cell_type": "markdown",
      "metadata": {
        "id": "D8wmt4Lw9PXy"
      },
      "source": [
        "# Pandas Playbook\n",
        "Reference info on the use of the Python Pandas library \n",
        "\n",
        "## Sources\n",
        "- 10 Mins to Pandas\n",
        "\n",
        "# License\n",
        " playbook_pandas.ipynb\n",
        " \n",
        " Copyright 2022 Crerar Christie <crerarc03@gmail.com>\n",
        " \n",
        "This program is free software: you can redistribute it and/or modify it under\n",
        "the terms of the GNU General Public License as published by the Free Software\n",
        "Foundation, either version 3 of the License, or (at your option) any later version.\n",
        "\n",
        "This program is distributed in the hope that it will be useful, but WITHOUT\n",
        "ANY WARRANTY; without even the implied warranty of MERCHANTABILITY or FITNESS\n",
        "FOR A PARTICULAR PURPOSE. See the GNU General Public License for more details.\n",
        "\n",
        "You should have received a copy of the GNU General Public License along with\n",
        "this program. If not, see <https://www.gnu.org/licenses/>\n",
        "\n"
      ]
    },
    {
      "cell_type": "code",
      "metadata": {
        "id": "xie7xuSvz7fw"
      },
      "source": [
        "#@title Imports\n",
        "\n",
        "import numpy as np\n",
        "import pandas as pd\n",
        "\n"
      ],
      "execution_count": null,
      "outputs": []
    },
    {
      "cell_type": "code",
      "metadata": {
        "id": "r2TaizPp0JUj"
      },
      "source": [
        "#@title Series\n",
        "s = pd.Series([1, 3, 5, np.nan, 6, 8])\n",
        "s\n"
      ],
      "execution_count": null,
      "outputs": []
    },
    {
      "cell_type": "code",
      "metadata": {
        "id": "vtzAFbxO0c_4"
      },
      "source": [
        "#@title DATAFRAME (a collection of series) by passing numpy array with datetime index\n",
        "\n",
        "# Create a Pandas date range...\n",
        "dates = pd.date_range(\"20130101\", periods=6)\n",
        "dates\n",
        "\n",
        "# Use it to to create a dataframe\n",
        "df = pd.DataFrame(np.random.randn(6, 4), index = dates, columns = list(\"ABCD\"))\n",
        "df\n"
      ],
      "execution_count": null,
      "outputs": []
    },
    {
      "cell_type": "code",
      "metadata": {
        "id": "CBVpudb3DrhL",
        "cellView": "form"
      },
      "source": [
        "#@title DATAFRAME by passing a dict of objects than can be converted to series-like\n",
        "df2 = pd.DataFrame(\n",
        "    {\n",
        "        \"A\": 1.0,\n",
        "        \"B\": pd.Timestamp(\"20130102\"),\n",
        "        \"C\": pd.Series(1, index=list(range(4)), dtype=\"float32\"),\n",
        "        \"D\": np.array([3] * 4, dtype=\"int32\"),\n",
        "        \"E\": pd.Categorical([\"test\", \"train\", \"test\", \"train\"]),\n",
        "        \"F\": \"foo\",\n",
        "    }\n",
        ")\n",
        "\n",
        "df2\n",
        "\n",
        "# Columns of resulting dataframes have different types\n",
        "df2.dtypes\n",
        "\n",
        "# Can use tab completion df2.<TAB> if your using IPython for col names and attribs\n",
        "# Can also seek help on variable, which may offer some info...\n",
        "df2?\n",
        "df2.A?\n"
      ],
      "execution_count": null,
      "outputs": []
    },
    {
      "cell_type": "code",
      "metadata": {
        "id": "qXhHtjWuHM3F",
        "cellView": "form"
      },
      "source": [
        "#@title Viewing\n",
        "\n",
        "# Top of df\n",
        "df.head()\n",
        "\n",
        "# Bottom 2 of df\n",
        "df.tail(2)\n",
        "\n",
        "# Display Index of columns\n",
        "df.index\n",
        "\n",
        "# Display columns\n",
        "df.columns\n",
        "\n",
        "# Can kick a df out to a numpy array - careful, each df col can have a different\n",
        "# data-type... pandas will find the datatype that can represent all the\n",
        "# data in the exported df, which may be an object, which may require casting\n",
        "# each time.  Also, exported array will not contain index or column data.\n",
        "df.to_numpy() # Exports to an array of floats\n",
        "df2.to_numpy() # Exports to an object\n",
        "\n",
        "# Short statistical summary\n",
        "df.describe()\n",
        "\n",
        "# Transpose the df\n",
        "df.T\n",
        "\n",
        "# Axis meaning\n",
        "# axis = 0 - Along the rows, i.e., applied column wise\n",
        "# axis = 1 - Along the columns, i.e., applied row wise\n",
        "print(\"Means by column (axis = 0):\")\n",
        "print(df.mean(axis=0))\n",
        "print(\"\\nMeans by row (axis = 1):\")\n",
        "print(df.mean(axis=1))\n",
        "\n",
        "# Sort by index name\n",
        "print(\"\\nSorted by column name\")\n",
        "print(df.sort_index(axis=1, ascending = False))\n",
        "\n",
        "# Sort based upon by values, for Column B\n",
        "print(\"\\nSorted by Column B\")\n",
        "print(df.sort_values(by=\"B\"))\n",
        "\n"
      ],
      "execution_count": null,
      "outputs": []
    },
    {
      "cell_type": "code",
      "metadata": {
        "id": "8wRBJRd8nN_O",
        "cellView": "form"
      },
      "source": [
        "#@title Selection\n",
        "# Can use standard Python/ Numpy expressions to select -\n",
        "# Pandas recommends pandas methods .at, .iat, .loc, and .iloc\n",
        "\n",
        "# Selecting a single column\n",
        "df.A  # Same as df[\"A\"]\n",
        "print(\"Select column A...\")\n",
        "print(df[\"A\"])\n",
        "\n",
        "# Selection by [] slices the rows\n",
        "print(\"\\nSliced by position index\")\n",
        "print(df[1:3])\n",
        "# Same as (note the last index is inclusive - kaggle explains why ~\n",
        "# has to do with a range of unsimilar types)\n",
        "print(\"\\nSliced by index label\")\n",
        "print(df[\"20130102\":\"20130103\"])\n",
        "\n",
        "# SELECTION BY LABEL\n",
        "# A cross-section thru the first row\n",
        "print(\"\\nSelect x-sect using a label (loc)\")\n",
        "print(df.loc[dates[0]])\n",
        "\n",
        "# Selecting on multi-axis by label\n",
        "print(\"\\nSelect multi-axis - all rows, cols A & B - by label\")\n",
        "print(df.loc[:, [\"A\", \"B\"]])\n",
        "\n",
        "# Selecting on multi-axis - row and columns ranged\n",
        "print(\"\\nSelect multi-axis - set rows and cols\")\n",
        "print(df.loc[\"20130102\":\"20130104\", [\"A\", \"B\"]])\n",
        "\n",
        "# Reduce dimensions of returned object\n",
        "print(\"\\nReduce dimensions of returned object\")\n",
        "print(df.loc[\"20130102\", [\"A\", \"B\"]])\n",
        "\n",
        "# Getting a scalar value\n",
        "print(\"\\nReturn a value at a specific df location using loc\")\n",
        "print(df.loc[dates[0], \"A\"])\n",
        "# Or, same output, getting fast access to a scalar\n",
        "print(\"...or, using .at\")\n",
        "print(df.at[dates[0], \"A\"])\n",
        "\n",
        "\n",
        "# SELECTION BY POSITION\n",
        "# A cross-section thru the 4th row\n",
        "print(\"\\nSelect cross section by index (iloc)\")\n",
        "print(df.iloc[3])\n",
        "\n",
        "# Integer slicing\n",
        "print(\"\\nUse iloc to select data by index range\")\n",
        "print(df.iloc[3:5, 0:2])\n",
        "\n",
        "# Lists of integer positions\n",
        "print(\"\\nUse iloc with vectors of data to include\")\n",
        "print(df.iloc[[1, 2, 4], [0, 2]])\n",
        "\n",
        "# Slicing rows explicitly\n",
        "print(\"\\nReturn vlaue at specific location using iloc\")\n",
        "print(df.iloc[1, 1])\n",
        "# Or, same output, getting fast access to a scalar\n",
        "print(\"...or same value using .iat\")\n",
        "print(df.iat[1, 1])\n",
        "\n",
        "# Boolean indexing\n",
        "# Using a single column's values to get data\n",
        "print(\"\\nReturn rows where data in row of column A is > 0\")\n",
        "print(df[df[\"A\"] > 0])\n",
        "# Select data where a Boolean condition is met\n",
        "print(\"\\nSelect data where data item is > 0\")\n",
        "print(df[df > 0])\n",
        "\n",
        "# Filter data\n",
        "print(\"\\nReturn data that passes through a filter\")\n",
        "df2 = df.copy()\n",
        "df2[\"E\"] = [\"one\", \"one\", \"two\", \"three\", \"four\", \"three\"]\n",
        "print(\"\\nAugmented data frame\")\n",
        "print(df2)\n",
        "print(\"\\nFrom augmented, select rows where 'two' and 'four' are in column E\")\n",
        "print(df2[df2[\"E\"].isin([\"two\", \"four\"])])\n",
        "\n",
        "# Settting values\n",
        "# Setting a new column automatically aligns data by the indexes\n",
        "s1 = pd.Series([1, 2, 3, 4, 5, 6], index = pd.date_range(\"20130102\", periods = 6))\n",
        "print(\"\"\"\\nSetting to align data with indexes\n",
        "Create a new series:\"\"\")\n",
        "print(s1)\n",
        "print(\"\"\"\\nnote mis-shape/ index matching\n",
        "First row in Col F is empty, last row is excluded.\"\"\")\n",
        "df[\"F\"] = s1\n",
        "print(df)\n",
        "# Set values using at, iat\n",
        "print(\"\\nSet r0:c0 to zero using 'at' & r0:c1 to zero using 'iat'\")\n",
        "df.at[dates[0], \"A\"] = 0\n",
        "df.iat[0,1] = 0\n",
        "print(df)\n",
        "# Set values by replacing column entries with a numpy array using 'loc'\n",
        "print(\"\\nSet by replacing entries in Col D with a numpy array and loc\")\n",
        "df.loc[:, \"D\"] = np.array([5] * len(df))\n",
        "print(df)\n",
        "\n",
        "\n",
        "\n"
      ],
      "execution_count": null,
      "outputs": []
    },
    {
      "cell_type": "code",
      "metadata": {
        "id": "MBlPrXLPuDCY",
        "cellView": "form"
      },
      "source": [
        "#@title Missing Data\n",
        "print(\"\\nMissing data represented by np.nan - by default not included in calcs\")\n",
        "print(\"\"\"\\nRe-indexing allows you to change/add/delete the index (first 4 rows)\n",
        "on the specified axis. Col E added & given vals in rows 0 & 1\"\"\")\n",
        "df1 = df.reindex(index = dates[0:4], columns = list(df.columns) + [\"E\"])\n",
        "df1.loc[dates[0] : dates[1], \"E\"] = 1\n",
        "print(df1)\n",
        "\n",
        "print(\"\\nDrop row: Use dropna to exclude rows that have missing data\")\n",
        "print(df1.dropna(how = \"any\"))\n",
        "\n",
        "print(\"\\nFill data: Use fillna\")\n",
        "print(df1.fillna(value = 5))\n",
        "\n",
        "print(\"\\nEstablish a boolean mask where values are nan using isna\")\n",
        "print(pd.isna(df1))\n"
      ],
      "execution_count": null,
      "outputs": []
    },
    {
      "cell_type": "code",
      "metadata": {
        "id": "PFkDZfOyw0Ki",
        "cellView": "form"
      },
      "source": [
        "#@title Operations\n",
        "print(\"\\nStatistical operations\")\n",
        "print(\"\\nMean of all\")\n",
        "print(df.mean())\n",
        "\n",
        "print(\"\\nMean on axis 1 (0 - by column, 1 - by row)\")\n",
        "print(df.mean(1))\n",
        "\n",
        "print(\"\\nOn objects of different dimensionality & need alignment\")\n",
        "print(\"Create an new series, s\")\n",
        "s = pd.Series([1, 3, 5, np.nan, 6, 8], index = dates).shift(2) # shift moves data down 2 cols rel to axis labels\n",
        "print(s)\n",
        "print(\"\\nSubtrace s from each column of df\")\n",
        "print(df.sub(s, axis = \"index\"))\n",
        "\n",
        "print(\"\\nApply functions:\")\n",
        "print(\"Cummulative sum (default = down column, axis = 0)\")\n",
        "print(df.apply(np.cumsum))\n",
        "print(\"Lambda function subracting the min from max value (range)\")\n",
        "print(df.apply(lambda x: x.max() - x.min(), axis = 0))\n",
        "\n",
        "print(\"\\nHistogramming\")\n",
        "print(\"Create a series of 10 random ints from zero to 7\")\n",
        "s = pd.Series(np.random.randint(0, 7, size = 10))\n",
        "print(s)\n",
        "print(\"Now count no of times an int appears\")\n",
        "print(s.value_counts())"
      ],
      "execution_count": null,
      "outputs": []
    },
    {
      "cell_type": "code",
      "metadata": {
        "id": "4YpLFnWhURJN",
        "cellView": "form"
      },
      "source": [
        "#@title Apply Lambda Filters\n",
        "\n",
        "frame = pd.DataFrame({'b':[-0.204708, -0.555730, 0.092908, 1.246435],\n",
        "                      'd':[0.478943, 1.965781, 0.281746, 1.007189],\n",
        "                      'e':[-0.519439, 1.393406, 0.769023, -1.296221]},\n",
        "                      index=['Utah', 'Ohio', 'Texas', 'Oregon'])\n",
        "\n",
        "f = lambda x: x.max() - x.min()\n",
        "g = lambda f: f.d - f.b\n",
        "print(frame, end='\\n\\n')\n",
        "print(frame.apply(f), end='\\n\\n')\n",
        "print(frame.apply(f, axis = 'columns'), end='\\n\\n')\n",
        "print(frame.apply(g, axis = 'columns'))\n"
      ],
      "execution_count": null,
      "outputs": []
    }
  ]
}
