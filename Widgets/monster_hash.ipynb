{
  "nbformat": 4,
  "nbformat_minor": 0,
  "metadata": {
    "colab": {
      "name": "monster_hash.ipynb",
      "provenance": [],
      "collapsed_sections": [],
      "authorship_tag": "ABX9TyMzSuDrs4b0y226qmWA1pc1",
      "include_colab_link": true
    },
    "kernelspec": {
      "name": "python3",
      "display_name": "Python 3"
    },
    "language_info": {
      "name": "python"
    }
  },
  "cells": [
    {
      "cell_type": "markdown",
      "metadata": {
        "id": "view-in-github",
        "colab_type": "text"
      },
      "source": [
        "<a href=\"https://colab.research.google.com/github/crerarc/Widgets/blob/main/monster_hash.ipynb\" target=\"_parent\"><img src=\"https://colab.research.google.com/assets/colab-badge.svg\" alt=\"Open In Colab\"/></a>"
      ]
    },
    {
      "cell_type": "code",
      "metadata": {
        "colab": {
          "base_uri": "https://localhost:8080/"
        },
        "id": "YxDiuhfw4UYp",
        "outputId": "7a5118de-3e95-4f75-f901-575eaf04f5d3"
      },
      "source": [
        "# Intention: Python script to create and md5 hash\n",
        "\n",
        "# License\n",
        "#  monster_hash.py\n",
        "#  \n",
        "#  Copyright 2022 Crerar Christie <crerarc03@gmail.com>\n",
        "#  \n",
        "# This program is free software: you can redistribute it and/or modify it under\n",
        "# the terms of the GNU General Public License as published by the Free Software\n",
        "# Foundation, either version 3 of the License, or (at your option) any later version.\n",
        "# \n",
        "# This program is distributed in the hope that it will be useful, but WITHOUT\n",
        "# ANY WARRANTY; without even the implied warranty of MERCHANTABILITY or FITNESS\n",
        "# FOR A PARTICULAR PURPOSE. See the GNU General Public License for more details.\n",
        "# \n",
        "# You should have received a copy of the GNU General Public License along with\n",
        "# this program. If not, see <https://www.gnu.org/licenses/>\n",
        "\n",
        "import hashlib\n",
        "\n",
        "text = \"banana_splits\"\n",
        "hashobj = hashlib.md5(text.encode())\n",
        "md5hash = hashobj.hexdigest().upper()\n",
        "print(f\"Hash of \\\"{text}\\\" is: {md5hash}\")\n",
        "\n",
        "\n",
        "\n"
      ],
      "execution_count": 1,
      "outputs": [
        {
          "output_type": "stream",
          "name": "stdout",
          "text": [
            "Hash of \"banana_splits\" is: A81A2F926A2C783C8E0327D3AEBF3C30\n"
          ]
        }
      ]
    }
  ]
}
